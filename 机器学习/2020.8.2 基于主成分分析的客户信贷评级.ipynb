{
 "cells": [
  {
   "cell_type": "code",
   "execution_count": 2,
   "metadata": {},
   "outputs": [],
   "source": [
    "import pandas as pd\n",
    "import numpy as np\n",
    "import matplotlib.pyplot as plt\n",
    "plt.style.use('seaborn-whitegrid')\n",
    "plt.rc('font', **{'family': 'Microsoft YaHei, SimHei'})  # 设置中文字体的支持"
   ]
  },
  {
   "cell_type": "markdown",
   "metadata": {},
   "source": [
    "## 数据探索"
   ]
  },
  {
   "cell_type": "code",
   "execution_count": 5,
   "metadata": {},
   "outputs": [
    {
     "data": {
      "text/html": [
       "<div>\n",
       "<style scoped>\n",
       "    .dataframe tbody tr th:only-of-type {\n",
       "        vertical-align: middle;\n",
       "    }\n",
       "\n",
       "    .dataframe tbody tr th {\n",
       "        vertical-align: top;\n",
       "    }\n",
       "\n",
       "    .dataframe thead th {\n",
       "        text-align: right;\n",
       "    }\n",
       "</style>\n",
       "<table border=\"1\" class=\"dataframe\">\n",
       "  <thead>\n",
       "    <tr style=\"text-align: right;\">\n",
       "      <th></th>\n",
       "      <th>ID</th>\n",
       "      <th>品格</th>\n",
       "      <th>能力</th>\n",
       "      <th>资本</th>\n",
       "      <th>担保</th>\n",
       "      <th>环境</th>\n",
       "    </tr>\n",
       "  </thead>\n",
       "  <tbody>\n",
       "    <tr>\n",
       "      <th>0</th>\n",
       "      <td>1</td>\n",
       "      <td>76.5</td>\n",
       "      <td>81.5</td>\n",
       "      <td>76.0</td>\n",
       "      <td>75.8</td>\n",
       "      <td>71.7</td>\n",
       "    </tr>\n",
       "    <tr>\n",
       "      <th>1</th>\n",
       "      <td>2</td>\n",
       "      <td>70.6</td>\n",
       "      <td>73.0</td>\n",
       "      <td>67.6</td>\n",
       "      <td>68.1</td>\n",
       "      <td>78.5</td>\n",
       "    </tr>\n",
       "    <tr>\n",
       "      <th>2</th>\n",
       "      <td>3</td>\n",
       "      <td>90.7</td>\n",
       "      <td>87.3</td>\n",
       "      <td>91.0</td>\n",
       "      <td>81.5</td>\n",
       "      <td>80.0</td>\n",
       "    </tr>\n",
       "    <tr>\n",
       "      <th>3</th>\n",
       "      <td>4</td>\n",
       "      <td>77.5</td>\n",
       "      <td>73.6</td>\n",
       "      <td>70.9</td>\n",
       "      <td>69.8</td>\n",
       "      <td>74.8</td>\n",
       "    </tr>\n",
       "    <tr>\n",
       "      <th>4</th>\n",
       "      <td>5</td>\n",
       "      <td>85.6</td>\n",
       "      <td>68.5</td>\n",
       "      <td>70.0</td>\n",
       "      <td>62.2</td>\n",
       "      <td>76.5</td>\n",
       "    </tr>\n",
       "    <tr>\n",
       "      <th>5</th>\n",
       "      <td>6</td>\n",
       "      <td>85.0</td>\n",
       "      <td>79.2</td>\n",
       "      <td>80.3</td>\n",
       "      <td>84.4</td>\n",
       "      <td>76.5</td>\n",
       "    </tr>\n",
       "    <tr>\n",
       "      <th>6</th>\n",
       "      <td>7</td>\n",
       "      <td>94.0</td>\n",
       "      <td>94.0</td>\n",
       "      <td>87.5</td>\n",
       "      <td>89.5</td>\n",
       "      <td>92.0</td>\n",
       "    </tr>\n",
       "    <tr>\n",
       "      <th>7</th>\n",
       "      <td>8</td>\n",
       "      <td>84.6</td>\n",
       "      <td>66.9</td>\n",
       "      <td>68.8</td>\n",
       "      <td>64.8</td>\n",
       "      <td>66.4</td>\n",
       "    </tr>\n",
       "    <tr>\n",
       "      <th>8</th>\n",
       "      <td>9</td>\n",
       "      <td>57.7</td>\n",
       "      <td>60.4</td>\n",
       "      <td>57.4</td>\n",
       "      <td>60.8</td>\n",
       "      <td>65.0</td>\n",
       "    </tr>\n",
       "    <tr>\n",
       "      <th>9</th>\n",
       "      <td>10</td>\n",
       "      <td>70.0</td>\n",
       "      <td>69.2</td>\n",
       "      <td>71.7</td>\n",
       "      <td>64.9</td>\n",
       "      <td>68.9</td>\n",
       "    </tr>\n",
       "  </tbody>\n",
       "</table>\n",
       "</div>"
      ],
      "text/plain": [
       "   ID    品格    能力    资本    担保    环境\n",
       "0   1  76.5  81.5  76.0  75.8  71.7\n",
       "1   2  70.6  73.0  67.6  68.1  78.5\n",
       "2   3  90.7  87.3  91.0  81.5  80.0\n",
       "3   4  77.5  73.6  70.9  69.8  74.8\n",
       "4   5  85.6  68.5  70.0  62.2  76.5\n",
       "5   6  85.0  79.2  80.3  84.4  76.5\n",
       "6   7  94.0  94.0  87.5  89.5  92.0\n",
       "7   8  84.6  66.9  68.8  64.8  66.4\n",
       "8   9  57.7  60.4  57.4  60.8  65.0\n",
       "9  10  70.0  69.2  71.7  64.9  68.9"
      ]
     },
     "execution_count": 5,
     "metadata": {},
     "output_type": "execute_result"
    }
   ],
   "source": [
    "df = pd.read_csv('loan_apply.csv')\n",
    "df"
   ]
  },
  {
   "cell_type": "code",
   "execution_count": 6,
   "metadata": {},
   "outputs": [
    {
     "data": {
      "text/plain": [
       "<matplotlib.axes._subplots.AxesSubplot at 0x197b6182630>"
      ]
     },
     "execution_count": 6,
     "metadata": {},
     "output_type": "execute_result"
    },
    {
     "data": {
      "image/png": "[encoded data removed]",
      "text/plain": [
       "<Figure size 432x288 with 2 Axes>"
      ]
     },
     "metadata": {},
     "output_type": "display_data"
    }
   ],
   "source": [
    "# 求解相关系数矩阵，证明做主成分分析的必要性\n",
    "## 丢弃无用的 ID 列\n",
    "data = df.drop(columns='ID')\n",
    "\n",
    "import seaborn as sns\n",
    "sns.heatmap(data.corr(), annot=True) \n",
    "# annot=True: 显示相关系数矩阵的具体数值\n",
    "# 发现变量间相关性都比较高，大于 0.7，有做 PCA 的必要"
   ]
  },
  {
   "cell_type": "markdown",
   "metadata": {},
   "source": [
    "## 数据标准化"
   ]
  },
  {
   "cell_type": "code",
   "execution_count": 7,
   "metadata": {},
   "outputs": [],
   "source": [
    "# PCA 通常用中心标准化，也就是都转化成 Z 分数的形式\n",
    "from sklearn.preprocessing import scale\n",
    "data = scale(data)"
   ]
  },
  {
   "cell_type": "markdown",
   "metadata": {},
   "source": [
    "## PCA 建模"
   ]
  },
  {
   "cell_type": "code",
   "execution_count": 9,
   "metadata": {},
   "outputs": [
    {
     "data": {
      "text/plain": [
       "PCA(copy=True, iterated_power='auto', n_components=5, random_state=None,\n",
       "  svd_solver='auto', tol=0.0, whiten=False)"
      ]
     },
     "execution_count": 9,
     "metadata": {},
     "output_type": "execute_result"
    }
   ],
   "source": [
    "from sklearn.decomposition import PCA\n",
    "\n",
    "# 说明：\n",
    "## 1. 第一次的 n_components 参数最好设置得大一些（保留的主成份）\n",
    "## 2. 观察 explained_variance_ratio_ 取值变化，即每个主成分能够解释原始数据变异的百分比\n",
    "pca = PCA(n_components=5) # 直接与变量个数相同的主成分\n",
    "pca.fit(data)"
   ]
  },
  {
   "cell_type": "markdown",
   "metadata": {},
   "source": [
    "## 结果分析"
   ]
  },
  {
   "cell_type": "markdown",
   "metadata": {},
   "source": [
    "### 累计解释变异程度"
   ]
  },
  {
   "cell_type": "code",
   "execution_count": 10,
   "metadata": {},
   "outputs": [
    {
     "data": {
      "text/plain": [
       "array([0.84223701, 0.07667191, 0.0594929 , 0.01591189, 0.00568629])"
      ]
     },
     "execution_count": 10,
     "metadata": {},
     "output_type": "execute_result"
    }
   ],
   "source": [
    "pca.explained_variance_ratio_"
   ]
  },
  {
   "cell_type": "code",
   "execution_count": 11,
   "metadata": {},
   "outputs": [
    {
     "data": {
      "text/plain": [
       "1.0"
      ]
     },
     "execution_count": 11,
     "metadata": {},
     "output_type": "execute_result"
    }
   ],
   "source": [
    "sum(pca.explained_variance_ratio_)"
   ]
  },
  {
   "cell_type": "code",
   "execution_count": 12,
   "metadata": {},
   "outputs": [
    {
     "data": {
      "image/png": "[encoded data removed]",
      "text/plain": [
       "<Figure size 432x288 with 1 Axes>"
      ]
     },
     "metadata": {},
     "output_type": "display_data"
    }
   ],
   "source": [
    "plt.plot(np.cumsum(pca.explained_variance_ratio_), linewidth=3)\n",
    "plt.xlabel('成份数')\n",
    "plt.ylabel('累积解释方差'); plt.grid(True)"
   ]
  },
  {
   "cell_type": "markdown",
   "metadata": {},
   "source": [
    "### 重新建模"
   ]
  },
  {
   "cell_type": "code",
   "execution_count": 14,
   "metadata": {},
   "outputs": [
    {
     "data": {
      "text/plain": [
       "array([[ 0.26743703],\n",
       "       [-0.77517212],\n",
       "       [ 2.60368412],\n",
       "       [-0.44020394],\n",
       "       [-0.67821851],\n",
       "       [ 1.38993749],\n",
       "       [ 3.96010211],\n",
       "       [-1.31085029],\n",
       "       [-3.53064032],\n",
       "       [-1.48607556]])"
      ]
     },
     "execution_count": 14,
     "metadata": {},
     "output_type": "execute_result"
    }
   ],
   "source": [
    "# 重新选择主成分个数进行建模\n",
    "pca = PCA(n_components=1).fit(data)\n",
    "new_data = pca.fit_transform(data) \n",
    "# fit_transform 表示将生成降维后的数据\n",
    "new_data"
   ]
  },
  {
   "cell_type": "code",
   "execution_count": 15,
   "metadata": {},
   "outputs": [
    {
     "name": "stdout",
     "output_type": "stream",
     "text": [
      "原始数据集规模:    (10, 5)\n",
      "降维后的数据集规模: (10, 1)\n"
     ]
    }
   ],
   "source": [
    "# 查看规模差别\n",
    "print(\"原始数据集规模:   \", data.shape)\n",
    "print(\"降维后的数据集规模:\", new_data.shape)\n",
    "\n",
    "# 果然由 5 列降到一列\n",
    "# 原始数据集规模:    (10, 5)\n",
    "# 降维后的数据集规模: (10, 1)"
   ]
  },
  {
   "cell_type": "markdown",
   "metadata": {},
   "source": [
    "### 主成分中各变量的权重分析"
   ]
  },
  {
   "cell_type": "code",
   "execution_count": 16,
   "metadata": {},
   "outputs": [
    {
     "data": {
      "text/html": [
       "<div>\n",
       "<style scoped>\n",
       "    .dataframe tbody tr th:only-of-type {\n",
       "        vertical-align: middle;\n",
       "    }\n",
       "\n",
       "    .dataframe tbody tr th {\n",
       "        vertical-align: top;\n",
       "    }\n",
       "\n",
       "    .dataframe thead th {\n",
       "        text-align: right;\n",
       "    }\n",
       "</style>\n",
       "<table border=\"1\" class=\"dataframe\">\n",
       "  <thead>\n",
       "    <tr style=\"text-align: right;\">\n",
       "      <th></th>\n",
       "      <th>0</th>\n",
       "    </tr>\n",
       "  </thead>\n",
       "  <tbody>\n",
       "    <tr>\n",
       "      <th>0</th>\n",
       "      <td>0.413490</td>\n",
       "    </tr>\n",
       "    <tr>\n",
       "      <th>1</th>\n",
       "      <td>0.472893</td>\n",
       "    </tr>\n",
       "    <tr>\n",
       "      <th>2</th>\n",
       "      <td>0.465599</td>\n",
       "    </tr>\n",
       "    <tr>\n",
       "      <th>3</th>\n",
       "      <td>0.454653</td>\n",
       "    </tr>\n",
       "    <tr>\n",
       "      <th>4</th>\n",
       "      <td>0.426504</td>\n",
       "    </tr>\n",
       "  </tbody>\n",
       "</table>\n",
       "</div>"
      ],
      "text/plain": [
       "          0\n",
       "0  0.413490\n",
       "1  0.472893\n",
       "2  0.465599\n",
       "3  0.454653\n",
       "4  0.426504"
      ]
     },
     "execution_count": 16,
     "metadata": {},
     "output_type": "execute_result"
    }
   ],
   "source": [
    "# 第一个主成分（解释了 84% 的变异的那个）与 5 个 X 的系数关系\n",
    "pd.DataFrame(pca.components_).T\n",
    "# 可以理解成：第一主成分 = 0.413*X1 + 0.47*X2 + 0.46*X3 + 0.45*X4 + 0.42*X5\n",
    "## 所以说生成的主成分除降维意义显著外，并没有什么其他的意义，并不好解释"
   ]
  },
  {
   "cell_type": "markdown",
   "metadata": {},
   "source": [
    "## 做出决策"
   ]
  },
  {
   "cell_type": "code",
   "execution_count": 17,
   "metadata": {},
   "outputs": [
    {
     "data": {
      "text/html": [
       "<div>\n",
       "<style scoped>\n",
       "    .dataframe tbody tr th:only-of-type {\n",
       "        vertical-align: middle;\n",
       "    }\n",
       "\n",
       "    .dataframe tbody tr th {\n",
       "        vertical-align: top;\n",
       "    }\n",
       "\n",
       "    .dataframe thead th {\n",
       "        text-align: right;\n",
       "    }\n",
       "</style>\n",
       "<table border=\"1\" class=\"dataframe\">\n",
       "  <thead>\n",
       "    <tr style=\"text-align: right;\">\n",
       "      <th></th>\n",
       "      <th>ID</th>\n",
       "      <th>品格</th>\n",
       "      <th>能力</th>\n",
       "      <th>资本</th>\n",
       "      <th>担保</th>\n",
       "      <th>环境</th>\n",
       "      <th>PCA</th>\n",
       "    </tr>\n",
       "  </thead>\n",
       "  <tbody>\n",
       "    <tr>\n",
       "      <th>0</th>\n",
       "      <td>1</td>\n",
       "      <td>76.5</td>\n",
       "      <td>81.5</td>\n",
       "      <td>76.0</td>\n",
       "      <td>75.8</td>\n",
       "      <td>71.7</td>\n",
       "      <td>0.267437</td>\n",
       "    </tr>\n",
       "    <tr>\n",
       "      <th>1</th>\n",
       "      <td>2</td>\n",
       "      <td>70.6</td>\n",
       "      <td>73.0</td>\n",
       "      <td>67.6</td>\n",
       "      <td>68.1</td>\n",
       "      <td>78.5</td>\n",
       "      <td>-0.775172</td>\n",
       "    </tr>\n",
       "    <tr>\n",
       "      <th>2</th>\n",
       "      <td>3</td>\n",
       "      <td>90.7</td>\n",
       "      <td>87.3</td>\n",
       "      <td>91.0</td>\n",
       "      <td>81.5</td>\n",
       "      <td>80.0</td>\n",
       "      <td>2.603684</td>\n",
       "    </tr>\n",
       "    <tr>\n",
       "      <th>3</th>\n",
       "      <td>4</td>\n",
       "      <td>77.5</td>\n",
       "      <td>73.6</td>\n",
       "      <td>70.9</td>\n",
       "      <td>69.8</td>\n",
       "      <td>74.8</td>\n",
       "      <td>-0.440204</td>\n",
       "    </tr>\n",
       "    <tr>\n",
       "      <th>4</th>\n",
       "      <td>5</td>\n",
       "      <td>85.6</td>\n",
       "      <td>68.5</td>\n",
       "      <td>70.0</td>\n",
       "      <td>62.2</td>\n",
       "      <td>76.5</td>\n",
       "      <td>-0.678219</td>\n",
       "    </tr>\n",
       "    <tr>\n",
       "      <th>5</th>\n",
       "      <td>6</td>\n",
       "      <td>85.0</td>\n",
       "      <td>79.2</td>\n",
       "      <td>80.3</td>\n",
       "      <td>84.4</td>\n",
       "      <td>76.5</td>\n",
       "      <td>1.389937</td>\n",
       "    </tr>\n",
       "    <tr>\n",
       "      <th>6</th>\n",
       "      <td>7</td>\n",
       "      <td>94.0</td>\n",
       "      <td>94.0</td>\n",
       "      <td>87.5</td>\n",
       "      <td>89.5</td>\n",
       "      <td>92.0</td>\n",
       "      <td>3.960102</td>\n",
       "    </tr>\n",
       "    <tr>\n",
       "      <th>7</th>\n",
       "      <td>8</td>\n",
       "      <td>84.6</td>\n",
       "      <td>66.9</td>\n",
       "      <td>68.8</td>\n",
       "      <td>64.8</td>\n",
       "      <td>66.4</td>\n",
       "      <td>-1.310850</td>\n",
       "    </tr>\n",
       "    <tr>\n",
       "      <th>8</th>\n",
       "      <td>9</td>\n",
       "      <td>57.7</td>\n",
       "      <td>60.4</td>\n",
       "      <td>57.4</td>\n",
       "      <td>60.8</td>\n",
       "      <td>65.0</td>\n",
       "      <td>-3.530640</td>\n",
       "    </tr>\n",
       "    <tr>\n",
       "      <th>9</th>\n",
       "      <td>10</td>\n",
       "      <td>70.0</td>\n",
       "      <td>69.2</td>\n",
       "      <td>71.7</td>\n",
       "      <td>64.9</td>\n",
       "      <td>68.9</td>\n",
       "      <td>-1.486076</td>\n",
       "    </tr>\n",
       "  </tbody>\n",
       "</table>\n",
       "</div>"
      ],
      "text/plain": [
       "   ID    品格    能力    资本    担保    环境       PCA\n",
       "0   1  76.5  81.5  76.0  75.8  71.7  0.267437\n",
       "1   2  70.6  73.0  67.6  68.1  78.5 -0.775172\n",
       "2   3  90.7  87.3  91.0  81.5  80.0  2.603684\n",
       "3   4  77.5  73.6  70.9  69.8  74.8 -0.440204\n",
       "4   5  85.6  68.5  70.0  62.2  76.5 -0.678219\n",
       "5   6  85.0  79.2  80.3  84.4  76.5  1.389937\n",
       "6   7  94.0  94.0  87.5  89.5  92.0  3.960102\n",
       "7   8  84.6  66.9  68.8  64.8  66.4 -1.310850\n",
       "8   9  57.7  60.4  57.4  60.8  65.0 -3.530640\n",
       "9  10  70.0  69.2  71.7  64.9  68.9 -1.486076"
      ]
     },
     "execution_count": 17,
     "metadata": {},
     "output_type": "execute_result"
    }
   ],
   "source": [
    "results = df.join(pd.DataFrame(new_data, columns=['PCA'])) # 与原来的数据拼接\n",
    "results"
   ]
  },
  {
   "cell_type": "code",
   "execution_count": 13,
   "metadata": {},
   "outputs": [
    {
     "data": {
      "text/html": [
       "<div>\n",
       "<style scoped>\n",
       "    .dataframe tbody tr th:only-of-type {\n",
       "        vertical-align: middle;\n",
       "    }\n",
       "\n",
       "    .dataframe tbody tr th {\n",
       "        vertical-align: top;\n",
       "    }\n",
       "\n",
       "    .dataframe thead th {\n",
       "        text-align: right;\n",
       "    }\n",
       "</style>\n",
       "<table border=\"1\" class=\"dataframe\">\n",
       "  <thead>\n",
       "    <tr style=\"text-align: right;\">\n",
       "      <th></th>\n",
       "      <th>ID</th>\n",
       "      <th>品格</th>\n",
       "      <th>能力</th>\n",
       "      <th>资本</th>\n",
       "      <th>担保</th>\n",
       "      <th>环境</th>\n",
       "      <th>PCA</th>\n",
       "    </tr>\n",
       "  </thead>\n",
       "  <tbody>\n",
       "    <tr>\n",
       "      <th>6</th>\n",
       "      <td>7</td>\n",
       "      <td>94.0</td>\n",
       "      <td>94.0</td>\n",
       "      <td>87.5</td>\n",
       "      <td>89.5</td>\n",
       "      <td>92.0</td>\n",
       "      <td>3.960102</td>\n",
       "    </tr>\n",
       "    <tr>\n",
       "      <th>2</th>\n",
       "      <td>3</td>\n",
       "      <td>90.7</td>\n",
       "      <td>87.3</td>\n",
       "      <td>91.0</td>\n",
       "      <td>81.5</td>\n",
       "      <td>80.0</td>\n",
       "      <td>2.603684</td>\n",
       "    </tr>\n",
       "    <tr>\n",
       "      <th>5</th>\n",
       "      <td>6</td>\n",
       "      <td>85.0</td>\n",
       "      <td>79.2</td>\n",
       "      <td>80.3</td>\n",
       "      <td>84.4</td>\n",
       "      <td>76.5</td>\n",
       "      <td>1.389937</td>\n",
       "    </tr>\n",
       "    <tr>\n",
       "      <th>0</th>\n",
       "      <td>1</td>\n",
       "      <td>76.5</td>\n",
       "      <td>81.5</td>\n",
       "      <td>76.0</td>\n",
       "      <td>75.8</td>\n",
       "      <td>71.7</td>\n",
       "      <td>0.267437</td>\n",
       "    </tr>\n",
       "    <tr>\n",
       "      <th>3</th>\n",
       "      <td>4</td>\n",
       "      <td>77.5</td>\n",
       "      <td>73.6</td>\n",
       "      <td>70.9</td>\n",
       "      <td>69.8</td>\n",
       "      <td>74.8</td>\n",
       "      <td>-0.440204</td>\n",
       "    </tr>\n",
       "    <tr>\n",
       "      <th>4</th>\n",
       "      <td>5</td>\n",
       "      <td>85.6</td>\n",
       "      <td>68.5</td>\n",
       "      <td>70.0</td>\n",
       "      <td>62.2</td>\n",
       "      <td>76.5</td>\n",
       "      <td>-0.678219</td>\n",
       "    </tr>\n",
       "    <tr>\n",
       "      <th>1</th>\n",
       "      <td>2</td>\n",
       "      <td>70.6</td>\n",
       "      <td>73.0</td>\n",
       "      <td>67.6</td>\n",
       "      <td>68.1</td>\n",
       "      <td>78.5</td>\n",
       "      <td>-0.775172</td>\n",
       "    </tr>\n",
       "    <tr>\n",
       "      <th>7</th>\n",
       "      <td>8</td>\n",
       "      <td>84.6</td>\n",
       "      <td>66.9</td>\n",
       "      <td>68.8</td>\n",
       "      <td>64.8</td>\n",
       "      <td>66.4</td>\n",
       "      <td>-1.310850</td>\n",
       "    </tr>\n",
       "    <tr>\n",
       "      <th>9</th>\n",
       "      <td>10</td>\n",
       "      <td>70.0</td>\n",
       "      <td>69.2</td>\n",
       "      <td>71.7</td>\n",
       "      <td>64.9</td>\n",
       "      <td>68.9</td>\n",
       "      <td>-1.486076</td>\n",
       "    </tr>\n",
       "    <tr>\n",
       "      <th>8</th>\n",
       "      <td>9</td>\n",
       "      <td>57.7</td>\n",
       "      <td>60.4</td>\n",
       "      <td>57.4</td>\n",
       "      <td>60.8</td>\n",
       "      <td>65.0</td>\n",
       "      <td>-3.530640</td>\n",
       "    </tr>\n",
       "  </tbody>\n",
       "</table>\n",
       "</div>"
      ],
      "text/plain": [
       "   ID    品格    能力    资本    担保    环境       PCA\n",
       "6   7  94.0  94.0  87.5  89.5  92.0  3.960102\n",
       "2   3  90.7  87.3  91.0  81.5  80.0  2.603684\n",
       "5   6  85.0  79.2  80.3  84.4  76.5  1.389937\n",
       "0   1  76.5  81.5  76.0  75.8  71.7  0.267437\n",
       "3   4  77.5  73.6  70.9  69.8  74.8 -0.440204\n",
       "4   5  85.6  68.5  70.0  62.2  76.5 -0.678219\n",
       "1   2  70.6  73.0  67.6  68.1  78.5 -0.775172\n",
       "7   8  84.6  66.9  68.8  64.8  66.4 -1.310850\n",
       "9  10  70.0  69.2  71.7  64.9  68.9 -1.486076\n",
       "8   9  57.7  60.4  57.4  60.8  65.0 -3.530640"
      ]
     },
     "execution_count": 13,
     "metadata": {},
     "output_type": "execute_result"
    }
   ],
   "source": [
    "results.sort_values(by='PCA', ascending=False)"
   ]
  },
  {
   "cell_type": "markdown",
   "metadata": {},
   "source": [
    "贷款给 7 号客户风险最低，给 9 号客户风险最高"
   ]
  },
  {
   "cell_type": "code",
   "execution_count": null,
   "metadata": {},
   "outputs": [],
   "source": []
  }
 ],
 "metadata": {
  "kernelspec": {
   "display_name": "Python 3",
   "language": "python",
   "name": "python3"
  },
  "language_info": {
   "codemirror_mode": {
    "name": "ipython",
    "version": 3
   },
   "file_extension": ".py",
   "mimetype": "text/x-python",
   "name": "python",
   "nbconvert_exporter": "python",
   "pygments_lexer": "ipython3",
   "version": "3.6.5"
  },
  "latex_envs": {
   "LaTeX_envs_menu_present": true,
   "autoclose": false,
   "autocomplete": true,
   "bibliofile": "biblio.bib",
   "cite_by": "apalike",
   "current_citInitial": 1,
   "eqLabelWithNumbers": true,
   "eqNumInitial": 1,
   "hotkeys": {
    "equation": "Ctrl-E",
    "itemize": "Ctrl-I"
   },
   "labels_anchors": false,
   "latex_user_defs": false,
   "report_style_numbering": false,
   "user_envs_cfg": false
  },
  "toc": {
   "base_numbering": 1,
   "nav_menu": {},
   "number_sections": true,
   "sideBar": true,
   "skip_h1_title": false,
   "title_cell": "Table of Contents",
   "title_sidebar": "Contents",
   "toc_cell": false,
   "toc_position": {},
   "toc_section_display": true,
   "toc_window_display": false
  },
  "varInspector": {
   "cols": {
    "lenName": 16,
    "lenType": 16,
    "lenVar": 40
   },
   "kernels_config": {
    "python": {
     "delete_cmd_postfix": "",
     "delete_cmd_prefix": "del ",
     "library": "var_list.py",
     "varRefreshCmd": "print(var_dic_list())"
    },
    "r": {
     "delete_cmd_postfix": ") ",
     "delete_cmd_prefix": "rm(",
     "library": "var_list.r",
     "varRefreshCmd": "cat(var_dic_list()) "
    }
   },
   "types_to_exclude": [
    "module",
    "function",
    "builtin_function_or_method",
    "instance",
    "_Feature"
   ],
   "window_display": false
  }
 },
 "nbformat": 4,
 "nbformat_minor": 2
}
